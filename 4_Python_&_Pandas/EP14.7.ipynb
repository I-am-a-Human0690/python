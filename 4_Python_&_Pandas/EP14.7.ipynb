{
 "cells": [
  {
   "cell_type": "code",
   "execution_count": 9,
   "metadata": {},
   "outputs": [],
   "source": [
    "# ชื่อไม่เหมือนกัน\n",
    "import pandas as pd\n",
    "products = [\n",
    "    {\"Name\" : \"คีย์บอร์ต\" , \"category\" : \"อุปกรณ์คอม\" , \"Price\" : 500}, #บรรทัด1\n",
    "    {\"name\" : \"เมาส์\", \"category\" : \"อุปกรณ์คอม2\" , \"Price\" : 300},#บรรทัด2\n",
    "    {\"Name\" : \"ตุ๊กตา\", \"category\" : \"ของเล่น\", \"Price\" :900 },#บรรทัด3\n",
    "    {\"Name\" : \"ทุเรียน\" , \"category\" : \"ผลไม่\" , \"Price\":70}#บรรทัด4\n",
    "]"
   ]
  },
  {
   "cell_type": "code",
   "execution_count": 10,
   "metadata": {},
   "outputs": [
    {
     "data": {
      "text/html": [
       "<div>\n",
       "<style scoped>\n",
       "    .dataframe tbody tr th:only-of-type {\n",
       "        vertical-align: middle;\n",
       "    }\n",
       "\n",
       "    .dataframe tbody tr th {\n",
       "        vertical-align: top;\n",
       "    }\n",
       "\n",
       "    .dataframe thead th {\n",
       "        text-align: right;\n",
       "    }\n",
       "</style>\n",
       "<table border=\"1\" class=\"dataframe\">\n",
       "  <thead>\n",
       "    <tr style=\"text-align: right;\">\n",
       "      <th></th>\n",
       "      <th>Name</th>\n",
       "      <th>category</th>\n",
       "      <th>Price</th>\n",
       "      <th>name</th>\n",
       "    </tr>\n",
       "  </thead>\n",
       "  <tbody>\n",
       "    <tr>\n",
       "      <th>0</th>\n",
       "      <td>คีย์บอร์ต</td>\n",
       "      <td>อุปกรณ์คอม</td>\n",
       "      <td>500</td>\n",
       "      <td>NaN</td>\n",
       "    </tr>\n",
       "    <tr>\n",
       "      <th>1</th>\n",
       "      <td>NaN</td>\n",
       "      <td>อุปกรณ์คอม2</td>\n",
       "      <td>300</td>\n",
       "      <td>เมาส์</td>\n",
       "    </tr>\n",
       "    <tr>\n",
       "      <th>2</th>\n",
       "      <td>ตุ๊กตา</td>\n",
       "      <td>ของเล่น</td>\n",
       "      <td>900</td>\n",
       "      <td>NaN</td>\n",
       "    </tr>\n",
       "    <tr>\n",
       "      <th>3</th>\n",
       "      <td>ทุเรียน</td>\n",
       "      <td>ผลไม่</td>\n",
       "      <td>70</td>\n",
       "      <td>NaN</td>\n",
       "    </tr>\n",
       "  </tbody>\n",
       "</table>\n",
       "</div>"
      ],
      "text/plain": [
       "        Name     category  Price   name\n",
       "0  คีย์บอร์ต   อุปกรณ์คอม    500    NaN\n",
       "1        NaN  อุปกรณ์คอม2    300  เมาส์\n",
       "2     ตุ๊กตา      ของเล่น    900    NaN\n",
       "3    ทุเรียน        ผลไม่     70    NaN"
      ]
     },
     "execution_count": 10,
     "metadata": {},
     "output_type": "execute_result"
    }
   ],
   "source": [
    "a=pd.DataFrame(products)\n",
    "a"
   ]
  },
  {
   "cell_type": "code",
   "execution_count": 12,
   "metadata": {},
   "outputs": [
    {
     "data": {
      "text/html": [
       "<div>\n",
       "<style scoped>\n",
       "    .dataframe tbody tr th:only-of-type {\n",
       "        vertical-align: middle;\n",
       "    }\n",
       "\n",
       "    .dataframe tbody tr th {\n",
       "        vertical-align: top;\n",
       "    }\n",
       "\n",
       "    .dataframe thead th {\n",
       "        text-align: right;\n",
       "    }\n",
       "</style>\n",
       "<table border=\"1\" class=\"dataframe\">\n",
       "  <thead>\n",
       "    <tr style=\"text-align: right;\">\n",
       "      <th></th>\n",
       "      <th>Name</th>\n",
       "      <th>category</th>\n",
       "    </tr>\n",
       "    <tr>\n",
       "      <th>Price</th>\n",
       "      <th></th>\n",
       "      <th></th>\n",
       "    </tr>\n",
       "  </thead>\n",
       "  <tbody>\n",
       "    <tr>\n",
       "      <th>500</th>\n",
       "      <td>คีย์บอร์ต</td>\n",
       "      <td>อุปกรณ์คอม</td>\n",
       "    </tr>\n",
       "    <tr>\n",
       "      <th>300</th>\n",
       "      <td>เมาส์</td>\n",
       "      <td>อุปกรณ์คอม</td>\n",
       "    </tr>\n",
       "    <tr>\n",
       "      <th>900</th>\n",
       "      <td>ตุ๊กตา</td>\n",
       "      <td>ของเล่น</td>\n",
       "    </tr>\n",
       "    <tr>\n",
       "      <th>70</th>\n",
       "      <td>ทุเรียน</td>\n",
       "      <td>ผลไม่</td>\n",
       "    </tr>\n",
       "  </tbody>\n",
       "</table>\n",
       "</div>"
      ],
      "text/plain": [
       "            Name    category\n",
       "Price                       \n",
       "500    คีย์บอร์ต  อุปกรณ์คอม\n",
       "300        เมาส์  อุปกรณ์คอม\n",
       "900       ตุ๊กตา     ของเล่น\n",
       "70       ทุเรียน       ผลไม่"
      ]
     },
     "execution_count": 12,
     "metadata": {},
     "output_type": "execute_result"
    }
   ],
   "source": [
    "a.set_index([\"Price\"],inplace=True)\n",
    "a"
   ]
  }
 ],
 "metadata": {
  "interpreter": {
   "hash": "c49e83fbf6c9539606f96665bbe2ae6db5580c85f0f9f4a2a7c753f95aa0f7ac"
  },
  "kernelspec": {
   "display_name": "Python 3.10.4 64-bit",
   "language": "python",
   "name": "python3"
  },
  "language_info": {
   "codemirror_mode": {
    "name": "ipython",
    "version": 3
   },
   "file_extension": ".py",
   "mimetype": "text/x-python",
   "name": "python",
   "nbconvert_exporter": "python",
   "pygments_lexer": "ipython3",
   "version": "3.10.4"
  },
  "orig_nbformat": 4
 },
 "nbformat": 4,
 "nbformat_minor": 2
}
